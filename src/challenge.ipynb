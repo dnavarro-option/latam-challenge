{
 "cells": [
  {
   "cell_type": "markdown",
   "metadata": {},
   "source": [
    "## <a id=\"parte0\">[Tabla de contenidos](#parte0)</a>\n",
    "\n",
    "### [1. Preliminares](#parte1)\n",
    "* [1.1 Descripción de la data](#parte11)\n",
    "* [1.2 Estrategia de la solución](#parte12)\n",
    "* [1.3 Instalación de librerías](#parte13)\n",
    "* [1.4 Importación de librerías](#parte14)\n",
    "\n",
    "### [2. Descarga de la data](#parte2)\n",
    "\n",
    "### [3. Ejecución de Funciones](#parte3)\n",
    "\n",
    "* [3.1 q1_time](#parte31)\n",
    "* [3.2 q1_memory](#parte32)\n",
    "* [3.3 q2_time](#parte33)\n",
    "* [3.4 q3_memory](#parte34)\n",
    "* [3.5 q3_time](#parte35)\n",
    "* [3.6 q3_memory](#parte36)\n",
    "\n",
    "### [10. Eliminación de la data](#parte10)\n",
    "\n",
    "-----------------------"
   ]
  },
  {
   "cell_type": "markdown",
   "metadata": {},
   "source": [
    "## <a id=\"parte1\"> 1. Preliminares </a>"
   ]
  },
  {
   "cell_type": "markdown",
   "metadata": {},
   "source": [
    "### <a id=\"parte11\">1.1 Descripción de la data</a>"
   ]
  },
  {
   "cell_type": "markdown",
   "metadata": {},
   "source": [
    "\n",
    "| Variable | Descripción |\n",
    "| --- | --- |\n",
    "| url | La URL del tweet |\n",
    "| date | Fecha y hora de creación del tweet en formato ISO 8601 |\n",
    "| content | El contenido textual del tweet, incluyendo hashtags, menciones y enlaces |\n",
    "| renderedContent | Contenido renderizado del tweet, similar a `content` pero puede incluir texto con formatos adicionales |\n",
    "| id | ID único del tweet |\n",
    "| user | Información sobre el usuario que publicó el tweet |\n",
    "| user.username | Nombre de usuario de Twitter |\n",
    "| user.displayname | Nombre para mostrar del usuario |\n",
    "| user.id | ID único del usuario |\n",
    "| user.description | Descripción del perfil del usuario |\n",
    "| user.followersCount | Número de seguidores del usuario |\n",
    "| user.friendsCount | Número de amigos del usuario (personas a las que sigue) |\n",
    "| user.statusesCount | Número de tweets publicados por el usuario |\n",
    "| user.verified | Indica si el usuario está verificado |\n",
    "| user.created | Fecha de creación de la cuenta del usuario en formato ISO 8601 |\n",
    "| user.profileImageUrl | URL de la imagen de perfil del usuario |\n",
    "| user.profileBannerUrl | URL de la imagen de banner del usuario |\n",
    "| outlinks | Enlaces salientes incluidos en el tweet |\n",
    "| tcooutlinks | URLs abreviadas por el dominio `t.co` de Twitter |\n",
    "| replyCount | Número de respuestas al tweet |\n",
    "| retweetCount | Número de retweets del tweet |\n",
    "| likeCount | Número de \"me gusta\" del tweet |\n",
    "| quoteCount | Número de veces que el tweet ha sido citado |\n",
    "| conversationId | ID de la conversación a la que pertenece el tweet |\n",
    "| lang | Idioma del tweet según la detección automática de Twitter |\n",
    "| source | Aplicación desde la cual se publicó el tweet |\n",
    "| sourceUrl | URL del origen del tweet |\n",
    "| sourceLabel | Etiqueta del origen del tweet |\n",
    "| media | Información de los medios adjuntos al tweet (imágenes, videos, GIFs) |\n",
    "| retweetedTweet | Información sobre el tweet retweeteado, si aplica |\n",
    "| quotedTweet | Información sobre el tweet citado, si aplica |\n",
    "| mentionedUsers | Usuarios mencionados en el tweet |\n",
    "\n"
   ]
  },
  {
   "cell_type": "markdown",
   "metadata": {},
   "source": [
    "### <a id=\"parte12\">1.2 Estrategia de la solución </a>"
   ]
  },
  {
   "cell_type": "markdown",
   "metadata": {},
   "source": [
    "### Optimización de Memoria\n",
    "Para optimizar el uso de memoria en los scripts, se adoptaron las siguientes estrategias:\n",
    "\n",
    "1. Uso de defaultdict: Se utilizó la estructura de datos defaultdict del módulo collections para manejar de manera eficiente los conteos de menciones, usuarios y fechas.\n",
    "2. Carga de Datos en Fragmentos: En lugar de cargar todo el archivo JSON en la memoria de una vez, los datos se procesaron línea por línea, reduciendo significativamente el uso de memoria.\n",
    "3. Liberación de Memoria: Después de procesar los datos, se liberaron los objetos innecesarios para asegurar que la memoria se utilice de manera eficiente.\n",
    "\n",
    "### Optimización de Tiempo\n",
    "Para mejorar el tiempo de ejecución, se implementaron las siguientes técnicas:\n",
    "\n",
    "1. Operaciones Vectorizadas: Se prefirieron las operaciones vectorizadas sobre los bucles explícitos al trabajar con pandas, ya que las primeras son más rápidas y eficientes.\n",
    "2. Utilización de Funciones de Biblioteca: Se usaron funciones optimizadas de bibliotecas estándar en lugar de implementar soluciones desde cero, como Counter de collections para obtener los conteos más comunes.\n",
    "3. Evitar Operaciones Costosas: Se evitó el uso de operaciones de alto costo computacional dentro de los bucles, como el acceso repetido a elementos de diccionarios anidados, haciendo accesos directos cuando fue posible."
   ]
  },
  {
   "cell_type": "markdown",
   "metadata": {},
   "source": [
    "### <a id=\"parte13\">1.3 Instalación de librerías</a>"
   ]
  },
  {
   "cell_type": "markdown",
   "metadata": {},
   "source": [
    "Se instalan las librerías memory_profiler para medir el uso de memoria, emoji para reconocer emojis en los tweets, y gdown para descargar los archivos de Google Drive."
   ]
  },
  {
   "cell_type": "code",
   "execution_count": 21,
   "metadata": {},
   "outputs": [
    {
     "name": "stdout",
     "output_type": "stream",
     "text": [
      "Requirement already satisfied: emoji in c:\\users\\danie\\appdata\\local\\packages\\pythonsoftwarefoundation.python.3.11_qbz5n2kfra8p0\\localcache\\local-packages\\python311\\site-packages (2.12.1)\n",
      "Requirement already satisfied: typing-extensions>=4.7.0 in c:\\users\\danie\\appdata\\local\\packages\\pythonsoftwarefoundation.python.3.11_qbz5n2kfra8p0\\localcache\\local-packages\\python311\\site-packages (from emoji) (4.11.0)\n",
      "Note: you may need to restart the kernel to use updated packages.\n"
     ]
    },
    {
     "name": "stderr",
     "output_type": "stream",
     "text": [
      "\n",
      "[notice] A new release of pip is available: 24.0 -> 24.1\n",
      "[notice] To update, run: C:\\Users\\danie\\AppData\\Local\\Microsoft\\WindowsApps\\PythonSoftwareFoundation.Python.3.11_qbz5n2kfra8p0\\python.exe -m pip install --upgrade pip\n"
     ]
    }
   ],
   "source": [
    "pip install emoji"
   ]
  },
  {
   "cell_type": "code",
   "execution_count": 22,
   "metadata": {},
   "outputs": [
    {
     "name": "stdout",
     "output_type": "stream",
     "text": [
      "Requirement already satisfied: gdown in c:\\users\\danie\\appdata\\local\\packages\\pythonsoftwarefoundation.python.3.11_qbz5n2kfra8p0\\localcache\\local-packages\\python311\\site-packages (5.2.0)\n",
      "Requirement already satisfied: beautifulsoup4 in c:\\users\\danie\\appdata\\local\\packages\\pythonsoftwarefoundation.python.3.11_qbz5n2kfra8p0\\localcache\\local-packages\\python311\\site-packages (from gdown) (4.11.2)\n",
      "Requirement already satisfied: filelock in c:\\users\\danie\\appdata\\local\\packages\\pythonsoftwarefoundation.python.3.11_qbz5n2kfra8p0\\localcache\\local-packages\\python311\\site-packages (from gdown) (3.15.4)\n",
      "Requirement already satisfied: requests[socks] in c:\\users\\danie\\appdata\\local\\packages\\pythonsoftwarefoundation.python.3.11_qbz5n2kfra8p0\\localcache\\local-packages\\python311\\site-packages (from gdown) (2.31.0)\n",
      "Requirement already satisfied: tqdm in c:\\users\\danie\\appdata\\local\\packages\\pythonsoftwarefoundation.python.3.11_qbz5n2kfra8p0\\localcache\\local-packages\\python311\\site-packages (from gdown) (4.66.4)\n",
      "Requirement already satisfied: soupsieve>1.2 in c:\\users\\danie\\appdata\\local\\packages\\pythonsoftwarefoundation.python.3.11_qbz5n2kfra8p0\\localcache\\local-packages\\python311\\site-packages (from beautifulsoup4->gdown) (2.4)\n",
      "Requirement already satisfied: charset-normalizer<4,>=2 in c:\\users\\danie\\appdata\\local\\packages\\pythonsoftwarefoundation.python.3.11_qbz5n2kfra8p0\\localcache\\local-packages\\python311\\site-packages (from requests[socks]->gdown) (3.0.1)\n",
      "Requirement already satisfied: idna<4,>=2.5 in c:\\users\\danie\\appdata\\local\\packages\\pythonsoftwarefoundation.python.3.11_qbz5n2kfra8p0\\localcache\\local-packages\\python311\\site-packages (from requests[socks]->gdown) (3.4)\n",
      "Requirement already satisfied: urllib3<3,>=1.21.1 in c:\\users\\danie\\appdata\\local\\packages\\pythonsoftwarefoundation.python.3.11_qbz5n2kfra8p0\\localcache\\local-packages\\python311\\site-packages (from requests[socks]->gdown) (1.26.14)\n",
      "Requirement already satisfied: certifi>=2017.4.17 in c:\\users\\danie\\appdata\\local\\packages\\pythonsoftwarefoundation.python.3.11_qbz5n2kfra8p0\\localcache\\local-packages\\python311\\site-packages (from requests[socks]->gdown) (2022.12.7)\n",
      "Requirement already satisfied: PySocks!=1.5.7,>=1.5.6 in c:\\users\\danie\\appdata\\local\\packages\\pythonsoftwarefoundation.python.3.11_qbz5n2kfra8p0\\localcache\\local-packages\\python311\\site-packages (from requests[socks]->gdown) (1.7.1)\n",
      "Requirement already satisfied: colorama in c:\\users\\danie\\appdata\\local\\packages\\pythonsoftwarefoundation.python.3.11_qbz5n2kfra8p0\\localcache\\local-packages\\python311\\site-packages (from tqdm->gdown) (0.4.6)\n",
      "Note: you may need to restart the kernel to use updated packages.\n"
     ]
    },
    {
     "name": "stderr",
     "output_type": "stream",
     "text": [
      "\n",
      "[notice] A new release of pip is available: 24.0 -> 24.1\n",
      "[notice] To update, run: C:\\Users\\danie\\AppData\\Local\\Microsoft\\WindowsApps\\PythonSoftwareFoundation.Python.3.11_qbz5n2kfra8p0\\python.exe -m pip install --upgrade pip\n"
     ]
    }
   ],
   "source": [
    "pip install gdown"
   ]
  },
  {
   "cell_type": "code",
   "execution_count": 23,
   "metadata": {},
   "outputs": [
    {
     "name": "stdout",
     "output_type": "stream",
     "text": [
      "Requirement already satisfied: memory_profiler in c:\\users\\danie\\appdata\\local\\packages\\pythonsoftwarefoundation.python.3.11_qbz5n2kfra8p0\\localcache\\local-packages\\python311\\site-packages (0.61.0)\n",
      "Requirement already satisfied: psutil in c:\\users\\danie\\appdata\\local\\packages\\pythonsoftwarefoundation.python.3.11_qbz5n2kfra8p0\\localcache\\local-packages\\python311\\site-packages (from memory_profiler) (5.9.4)\n",
      "Note: you may need to restart the kernel to use updated packages.\n"
     ]
    },
    {
     "name": "stderr",
     "output_type": "stream",
     "text": [
      "\n",
      "[notice] A new release of pip is available: 24.0 -> 24.1\n",
      "[notice] To update, run: C:\\Users\\danie\\AppData\\Local\\Microsoft\\WindowsApps\\PythonSoftwareFoundation.Python.3.11_qbz5n2kfra8p0\\python.exe -m pip install --upgrade pip\n"
     ]
    }
   ],
   "source": [
    "pip install memory_profiler"
   ]
  },
  {
   "cell_type": "markdown",
   "metadata": {},
   "source": [
    "### <a id=\"parte14\">1.4 Importación de librerías </a>"
   ]
  },
  {
   "cell_type": "code",
   "execution_count": 3,
   "metadata": {},
   "outputs": [],
   "source": [
    "#librería gdown para descargar archivos desde Google Drive\n",
    "import gdown\n",
    "\n",
    "#librería time para poder descomprimir el tarchivo zip\n",
    "import zipfile\n",
    "\n",
    "#libreria para manejo de sistema operativo\n",
    "import os\n",
    "\n",
    "#librería memory_profiler para medir el uso de memoria de nuestro script\n",
    "import memory_profiler\n",
    "\n",
    "#librería time para poder medir el tiempo de ejecución de nuestro script\n",
    "import time\n",
    "\n"
   ]
  },
  {
   "cell_type": "markdown",
   "metadata": {},
   "source": [
    "## <a id=\"parte1\"> 2. Descarga de data </a>"
   ]
  },
  {
   "cell_type": "code",
   "execution_count": 4,
   "metadata": {},
   "outputs": [
    {
     "name": "stderr",
     "output_type": "stream",
     "text": [
      "Downloading...\n",
      "From (original): https://drive.google.com/uc?id=1ig2ngoXFTxP5Pa8muXo02mDTFexZzsis\n",
      "From (redirected): https://drive.google.com/uc?id=1ig2ngoXFTxP5Pa8muXo02mDTFexZzsis&confirm=t&uuid=5507b9bb-446a-43db-9d9e-91d9d2dd0d76\n",
      "To: i:\\Mi unidad\\latam-challenge\\src\\tweets.json.zip\n",
      "100%|██████████| 60.4M/60.4M [00:00<00:00, 104MB/s] \n"
     ]
    }
   ],
   "source": [
    "# URL del archivo a descargar desde Google Drive\n",
    "url = 'https://drive.google.com/uc?id=1ig2ngoXFTxP5Pa8muXo02mDTFexZzsis'\n",
    "\n",
    "# Archivo y carpeta de salida\n",
    "zip_file = 'tweets.json.zip'\n",
    "folder_data= 'data'\n",
    "\n",
    "# Descargamos el archivo desde Google Drive\n",
    "gdown.download(url, zip_file, quiet=False)\n",
    "\n",
    "# Descomprimimos el archivo descargado\n",
    "with zipfile.ZipFile(zip_file, 'r') as zip_ref:\n",
    "    zip_ref.extractall(folder_data)  \n",
    "    json_file = zip_ref.namelist() \n",
    "\n",
    "\n",
    "file_path=folder_data+\"/\"+json_file[0]\n"
   ]
  },
  {
   "cell_type": "markdown",
   "metadata": {},
   "source": [
    "## <a id=\"parte1\"> 3. Ejecución de funciones </a>"
   ]
  },
  {
   "cell_type": "markdown",
   "metadata": {},
   "source": [
    "### <a id=\"parte31\">3.1 q1_time </a>"
   ]
  },
  {
   "cell_type": "code",
   "execution_count": 5,
   "metadata": {},
   "outputs": [
    {
     "name": "stdout",
     "output_type": "stream",
     "text": [
      "Tiempo de ejecución: 11.302462816238403 segundos\n",
      "[(datetime.date(2021, 2, 12), 'RanbirS00614606'), (datetime.date(2021, 2, 13), 'MaanDee08215437'), (datetime.date(2021, 2, 17), 'RaaJVinderkaur'), (datetime.date(2021, 2, 16), 'jot__b'), (datetime.date(2021, 2, 14), 'rebelpacifist'), (datetime.date(2021, 2, 18), 'neetuanjle_nitu'), (datetime.date(2021, 2, 15), 'jot__b'), (datetime.date(2021, 2, 20), 'MangalJ23056160'), (datetime.date(2021, 2, 23), 'Surrypuria'), (datetime.date(2021, 2, 19), 'Preetm91')]\n"
     ]
    }
   ],
   "source": [
    "# Importamos funcion q1_time del archivo q1_time.py\n",
    "from q1_time import q1_time\n",
    "\n",
    "# Medir tiempo de ejecución\n",
    "start_time = time.time()\n",
    "result_q1_time = q1_time(file_path)\n",
    "end_time = time.time()\n",
    "print(f\"Tiempo de ejecución: {end_time - start_time} segundos\")\n",
    "print(result_q1_time)"
   ]
  },
  {
   "cell_type": "markdown",
   "metadata": {},
   "source": [
    "### <a id=\"parte32\">3.2 q1_memory </a>"
   ]
  },
  {
   "cell_type": "code",
   "execution_count": 6,
   "metadata": {},
   "outputs": [
    {
     "name": "stdout",
     "output_type": "stream",
     "text": [
      "Uso de memoria: 28.58984375 MiB\n",
      "[(datetime.date(2021, 2, 12), 'RanbirS00614606'), (datetime.date(2021, 2, 13), 'MaanDee08215437'), (datetime.date(2021, 2, 17), 'RaaJVinderkaur'), (datetime.date(2021, 2, 16), 'jot__b'), (datetime.date(2021, 2, 14), 'rebelpacifist'), (datetime.date(2021, 2, 18), 'neetuanjle_nitu'), (datetime.date(2021, 2, 15), 'jot__b'), (datetime.date(2021, 2, 20), 'MangalJ23056160'), (datetime.date(2021, 2, 23), 'Surrypuria'), (datetime.date(2021, 2, 19), 'Preetm91')]\n"
     ]
    }
   ],
   "source": [
    "# Importamos funcion q1_memory del archivo q1_memory.py\n",
    "from q1_memory import q1_memory\n",
    "\n",
    "# Medir uso de memoria\n",
    "mem_usage = memory_profiler.memory_usage((q1_memory, (file_path,)))\n",
    "result_q1_memory = q1_memory(file_path)\n",
    "print(f\"Uso de memoria: {max(mem_usage) - min(mem_usage)} MiB\")\n",
    "print(result_q1_memory)"
   ]
  },
  {
   "cell_type": "markdown",
   "metadata": {},
   "source": [
    "### <a id=\"parte33\">3.3 q2_time </a>"
   ]
  },
  {
   "cell_type": "code",
   "execution_count": 7,
   "metadata": {},
   "outputs": [
    {
     "name": "stdout",
     "output_type": "stream",
     "text": [
      "Tiempo de ejecución: 10.8752121925354 segundos\n",
      "[('🙏', 7286), ('😂', 3072), ('🚜', 2972), ('✊', 2411), ('🌾', 2363), ('🏻', 2080), ('❤', 1779), ('🤣', 1668), ('🏽', 1218), ('👇', 1108)]\n"
     ]
    }
   ],
   "source": [
    "# Importamos funcion q2_time del archivo q2_time.py\n",
    "from q2_time import q2_time\n",
    "\n",
    "# Medir tiempo de ejecución\n",
    "start_time = time.time()\n",
    "result_q2_time = q2_time(file_path)\n",
    "end_time = time.time()\n",
    "print(f\"Tiempo de ejecución: {end_time - start_time} segundos\")\n",
    "print(result_q2_time)"
   ]
  },
  {
   "cell_type": "markdown",
   "metadata": {},
   "source": [
    "### <a id=\"parte34\">3.4 q2_memory </a>"
   ]
  },
  {
   "cell_type": "code",
   "execution_count": 8,
   "metadata": {},
   "outputs": [
    {
     "name": "stdout",
     "output_type": "stream",
     "text": [
      "Uso de memoria: 7.10546875 MiB\n",
      "[('🙏', 7286), ('😂', 3072), ('🚜', 2972), ('✊', 2411), ('🌾', 2363), ('🏻', 2080), ('❤', 1779), ('🤣', 1668), ('🏽', 1218), ('👇', 1108)]\n"
     ]
    }
   ],
   "source": [
    "# Importamos funcion q2_memory del archivo q2_memory.py\n",
    "from q2_memory import q2_memory\n",
    "\n",
    "# Medir uso de memoria\n",
    "mem_usage = memory_profiler.memory_usage((q2_memory, (file_path,)))\n",
    "result_q2_memory = q2_memory(file_path)\n",
    "print(f\"Uso de memoria: {max(mem_usage) - min(mem_usage)} MiB\")\n",
    "print(result_q2_memory)"
   ]
  },
  {
   "cell_type": "markdown",
   "metadata": {},
   "source": [
    "### <a id=\"parte35\">3.5 q3_time </a>"
   ]
  },
  {
   "cell_type": "code",
   "execution_count": 9,
   "metadata": {},
   "outputs": [
    {
     "name": "stdout",
     "output_type": "stream",
     "text": [
      "Tiempo de ejecución: 8.917109489440918 segundos\n",
      "[('@narendramodi', 2261), ('@Kisanektamorcha', 1836), ('@RakeshTikaitBKU', 1639), ('@PMOIndia', 1422), ('@RahulGandhi', 1125), ('@GretaThunberg', 1046), ('@RaviSinghKA', 1015), ('@rihanna', 972), ('@UNHumanRights', 962), ('@meenaharris', 925)]\n"
     ]
    }
   ],
   "source": [
    "# Importamos funcion q3_time del archivo q3_time.py\n",
    "from q3_time import q3_time\n",
    "\n",
    "# Medir tiempo de ejecución\n",
    "start_time = time.time()\n",
    "result_q3_time = q3_time(file_path)\n",
    "end_time = time.time()\n",
    "print(f\"Tiempo de ejecución: {end_time - start_time} segundos\")\n",
    "print(result_q3_time)"
   ]
  },
  {
   "cell_type": "markdown",
   "metadata": {},
   "source": [
    "### <a id=\"parte36\">3.6 q3_memory </a>"
   ]
  },
  {
   "cell_type": "code",
   "execution_count": 10,
   "metadata": {},
   "outputs": [
    {
     "name": "stdout",
     "output_type": "stream",
     "text": [
      "Uso de memoria: 3.9140625 MiB\n",
      "[('@narendramodi', 2201), ('@Kisanektamorcha', 1822), ('@RakeshTikaitBKU', 1599), ('@PMOIndia', 1387), ('@RahulGandhi', 1093), ('@RaviSinghKA', 1002), ('@GretaThunberg', 999), ('@UNHumanRights', 956), ('@rihanna', 944), ('@meenaharris', 911)]\n"
     ]
    }
   ],
   "source": [
    "# Importamos funcion q3_memory del archivo q3_memory.py\n",
    "from q3_memory import q3_memory\n",
    "\n",
    "# Medir uso de memoria\n",
    "mem_usage = memory_profiler.memory_usage((q3_memory, (file_path,)))\n",
    "result_q3_memory = q3_memory(file_path)\n",
    "print(f\"Uso de memoria: {max(mem_usage) - min(mem_usage)} MiB\")\n",
    "print(result_q3_memory)"
   ]
  },
  {
   "cell_type": "markdown",
   "metadata": {},
   "source": [
    "## <a id=\"parte1\"> 10. Eliminación de data </a>"
   ]
  },
  {
   "cell_type": "code",
   "execution_count": 11,
   "metadata": {},
   "outputs": [],
   "source": [
    "#Elimimamos archivos y carpetas si existen\n",
    "\n",
    "if os.path.exists(zip_file): os.remove(zip_file) \n",
    "\n",
    "if os.path.exists(file_path): os.remove(file_path) \n",
    "\n",
    "if os.path.exists(folder_data): os.rmdir(folder_data) \n"
   ]
  }
 ],
 "metadata": {
  "kernelspec": {
   "display_name": "Python 3",
   "language": "python",
   "name": "python3"
  },
  "language_info": {
   "codemirror_mode": {
    "name": "ipython",
    "version": 3
   },
   "file_extension": ".py",
   "mimetype": "text/x-python",
   "name": "python",
   "nbconvert_exporter": "python",
   "pygments_lexer": "ipython3",
   "version": "3.11.9"
  },
  "orig_nbformat": 4
 },
 "nbformat": 4,
 "nbformat_minor": 2
}
