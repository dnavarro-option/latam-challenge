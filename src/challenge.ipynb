{
 "cells": [
  {
   "cell_type": "markdown",
   "metadata": {},
   "source": [
    "En este archivo puedes escribir lo que estimes conveniente. Te recomendamos detallar tu solución y todas las suposiciones que estás considerando. Aquí puedes ejecutar las funciones que definiste en los otros archivos de la carpeta src, medir el tiempo, memoria, etc."
   ]
  },
  {
   "cell_type": "markdown",
   "metadata": {},
   "source": [
    "## <a id=\"parte0\">[Tabla de contenidos](#parte0)</a>\n",
    "\n",
    "### [1. Preliminares](#parte1)\n",
    "* [1.1 Instalación de librerías](#parte11)\n",
    "* [1.2 Importación de librerías](#parte12)\n",
    "\n",
    "### [2. Descarga de la data](#parte2)\n",
    "\n",
    "### [3. Ejecución de Funciones](#parte3)\n",
    "\n",
    "* [3.1 q1_time](#parte31)\n",
    "* [3.2 q1_memory](#parte32)\n",
    "* [3.3 q2_time](#parte33)\n",
    "* [3.4 q3_memory](#parte34)\n",
    "* [3.5 q3_time](#parte35)\n",
    "* [3.6 q3_memory](#parte36)\n",
    "\n",
    "### [10. Eliminación de la data](#parte10)\n",
    "\n",
    "-----------------------"
   ]
  },
  {
   "cell_type": "markdown",
   "metadata": {},
   "source": [
    "## <a id=\"parte1\"> 1. Preliminares </a>"
   ]
  },
  {
   "cell_type": "markdown",
   "metadata": {},
   "source": [
    "### <a id=\"parte11\">1.1 Instalación de librerías</a>"
   ]
  },
  {
   "cell_type": "code",
   "execution_count": 1,
   "metadata": {},
   "outputs": [
    {
     "name": "stdout",
     "output_type": "stream",
     "text": [
      "Requirement already satisfied: gdown in c:\\users\\danie\\appdata\\local\\packages\\pythonsoftwarefoundation.python.3.11_qbz5n2kfra8p0\\localcache\\local-packages\\python311\\site-packages (5.2.0)Note: you may need to restart the kernel to use updated packages.\n",
      "\n",
      "Requirement already satisfied: beautifulsoup4 in c:\\users\\danie\\appdata\\local\\packages\\pythonsoftwarefoundation.python.3.11_qbz5n2kfra8p0\\localcache\\local-packages\\python311\\site-packages (from gdown) (4.11.2)\n",
      "Requirement already satisfied: filelock in c:\\users\\danie\\appdata\\local\\packages\\pythonsoftwarefoundation.python.3.11_qbz5n2kfra8p0\\localcache\\local-packages\\python311\\site-packages (from gdown) (3.15.4)\n",
      "Requirement already satisfied: requests[socks] in c:\\users\\danie\\appdata\\local\\packages\\pythonsoftwarefoundation.python.3.11_qbz5n2kfra8p0\\localcache\\local-packages\\python311\\site-packages (from gdown) (2.31.0)\n",
      "Requirement already satisfied: tqdm in c:\\users\\danie\\appdata\\local\\packages\\pythonsoftwarefoundation.python.3.11_qbz5n2kfra8p0\\localcache\\local-packages\\python311\\site-packages (from gdown) (4.66.4)\n",
      "Requirement already satisfied: soupsieve>1.2 in c:\\users\\danie\\appdata\\local\\packages\\pythonsoftwarefoundation.python.3.11_qbz5n2kfra8p0\\localcache\\local-packages\\python311\\site-packages (from beautifulsoup4->gdown) (2.4)\n",
      "Requirement already satisfied: charset-normalizer<4,>=2 in c:\\users\\danie\\appdata\\local\\packages\\pythonsoftwarefoundation.python.3.11_qbz5n2kfra8p0\\localcache\\local-packages\\python311\\site-packages (from requests[socks]->gdown) (3.0.1)\n",
      "Requirement already satisfied: idna<4,>=2.5 in c:\\users\\danie\\appdata\\local\\packages\\pythonsoftwarefoundation.python.3.11_qbz5n2kfra8p0\\localcache\\local-packages\\python311\\site-packages (from requests[socks]->gdown) (3.4)\n",
      "Requirement already satisfied: urllib3<3,>=1.21.1 in c:\\users\\danie\\appdata\\local\\packages\\pythonsoftwarefoundation.python.3.11_qbz5n2kfra8p0\\localcache\\local-packages\\python311\\site-packages (from requests[socks]->gdown) (1.26.14)\n",
      "Requirement already satisfied: certifi>=2017.4.17 in c:\\users\\danie\\appdata\\local\\packages\\pythonsoftwarefoundation.python.3.11_qbz5n2kfra8p0\\localcache\\local-packages\\python311\\site-packages (from requests[socks]->gdown) (2022.12.7)\n",
      "Requirement already satisfied: PySocks!=1.5.7,>=1.5.6 in c:\\users\\danie\\appdata\\local\\packages\\pythonsoftwarefoundation.python.3.11_qbz5n2kfra8p0\\localcache\\local-packages\\python311\\site-packages (from requests[socks]->gdown) (1.7.1)\n",
      "Requirement already satisfied: colorama in c:\\users\\danie\\appdata\\local\\packages\\pythonsoftwarefoundation.python.3.11_qbz5n2kfra8p0\\localcache\\local-packages\\python311\\site-packages (from tqdm->gdown) (0.4.6)\n"
     ]
    },
    {
     "name": "stderr",
     "output_type": "stream",
     "text": [
      "\n",
      "[notice] A new release of pip is available: 24.0 -> 24.1\n",
      "[notice] To update, run: C:\\Users\\danie\\AppData\\Local\\Microsoft\\WindowsApps\\PythonSoftwareFoundation.Python.3.11_qbz5n2kfra8p0\\python.exe -m pip install --upgrade pip\n"
     ]
    }
   ],
   "source": [
    "pip install gdown"
   ]
  },
  {
   "cell_type": "code",
   "execution_count": 2,
   "metadata": {},
   "outputs": [
    {
     "name": "stdout",
     "output_type": "stream",
     "text": [
      "Requirement already satisfied: emoji in c:\\users\\danie\\appdata\\local\\packages\\pythonsoftwarefoundation.python.3.11_qbz5n2kfra8p0\\localcache\\local-packages\\python311\\site-packages (2.12.1)\n",
      "Requirement already satisfied: typing-extensions>=4.7.0 in c:\\users\\danie\\appdata\\local\\packages\\pythonsoftwarefoundation.python.3.11_qbz5n2kfra8p0\\localcache\\local-packages\\python311\\site-packages (from emoji) (4.11.0)\n",
      "Note: you may need to restart the kernel to use updated packages.\n"
     ]
    },
    {
     "name": "stderr",
     "output_type": "stream",
     "text": [
      "\n",
      "[notice] A new release of pip is available: 24.0 -> 24.1\n",
      "[notice] To update, run: C:\\Users\\danie\\AppData\\Local\\Microsoft\\WindowsApps\\PythonSoftwareFoundation.Python.3.11_qbz5n2kfra8p0\\python.exe -m pip install --upgrade pip\n"
     ]
    }
   ],
   "source": [
    "pip install emoji"
   ]
  },
  {
   "cell_type": "markdown",
   "metadata": {},
   "source": [
    "### <a id=\"parte12\">1.2 Importación de librerías </a>"
   ]
  },
  {
   "cell_type": "code",
   "execution_count": 3,
   "metadata": {},
   "outputs": [],
   "source": [
    "#librería gdown para descargar archivos desde Google Drive\n",
    "import gdown\n",
    "\n",
    "#librería time para poder descomprimir el tarchivo zip\n",
    "import zipfile\n",
    "\n",
    "#libreria para manejo de sistema operativo\n",
    "import os\n",
    "\n",
    "#librería memory_profiler para medir el uso de memoria de nuestro script\n",
    "import memory_profiler\n",
    "\n",
    "#librería time para poder medir el tiempo de ejecución de nuestro script\n",
    "import time\n",
    "\n"
   ]
  },
  {
   "cell_type": "markdown",
   "metadata": {},
   "source": [
    "## <a id=\"parte1\"> 2. Descarga de data </a>"
   ]
  },
  {
   "cell_type": "code",
   "execution_count": 4,
   "metadata": {},
   "outputs": [
    {
     "name": "stderr",
     "output_type": "stream",
     "text": [
      "Downloading...\n",
      "From (original): https://drive.google.com/uc?id=1ig2ngoXFTxP5Pa8muXo02mDTFexZzsis\n",
      "From (redirected): https://drive.google.com/uc?id=1ig2ngoXFTxP5Pa8muXo02mDTFexZzsis&confirm=t&uuid=5507b9bb-446a-43db-9d9e-91d9d2dd0d76\n",
      "To: i:\\Mi unidad\\latam-challenge\\src\\tweets.json.zip\n",
      "100%|██████████| 60.4M/60.4M [00:00<00:00, 104MB/s] \n"
     ]
    }
   ],
   "source": [
    "# URL del archivo a descargar desde Google Drive\n",
    "url = 'https://drive.google.com/uc?id=1ig2ngoXFTxP5Pa8muXo02mDTFexZzsis'\n",
    "\n",
    "# Archivo y carpeta de salida\n",
    "zip_file = 'tweets.json.zip'\n",
    "folder_data= 'data'\n",
    "\n",
    "# Descargamos el archivo desde Google Drive\n",
    "gdown.download(url, zip_file, quiet=False)\n",
    "\n",
    "# Descomprimimos el archivo descargado\n",
    "with zipfile.ZipFile(zip_file, 'r') as zip_ref:\n",
    "    zip_ref.extractall(folder_data)  \n",
    "    json_file = zip_ref.namelist() \n",
    "\n",
    "\n",
    "file_path=folder_data+\"/\"+json_file[0]\n"
   ]
  },
  {
   "cell_type": "markdown",
   "metadata": {},
   "source": [
    "## <a id=\"parte1\"> 3. Ejecución de funciones </a>"
   ]
  },
  {
   "cell_type": "markdown",
   "metadata": {},
   "source": [
    "### <a id=\"parte31\">3.1 q1_time </a>"
   ]
  },
  {
   "cell_type": "code",
   "execution_count": 5,
   "metadata": {},
   "outputs": [
    {
     "name": "stdout",
     "output_type": "stream",
     "text": [
      "Tiempo de ejecución: 11.302462816238403 segundos\n",
      "[(datetime.date(2021, 2, 12), 'RanbirS00614606'), (datetime.date(2021, 2, 13), 'MaanDee08215437'), (datetime.date(2021, 2, 17), 'RaaJVinderkaur'), (datetime.date(2021, 2, 16), 'jot__b'), (datetime.date(2021, 2, 14), 'rebelpacifist'), (datetime.date(2021, 2, 18), 'neetuanjle_nitu'), (datetime.date(2021, 2, 15), 'jot__b'), (datetime.date(2021, 2, 20), 'MangalJ23056160'), (datetime.date(2021, 2, 23), 'Surrypuria'), (datetime.date(2021, 2, 19), 'Preetm91')]\n"
     ]
    }
   ],
   "source": [
    "# Importamos funcion q1_time del archivo q1_time.py\n",
    "from q1_time import q1_time\n",
    "\n",
    "# Medir tiempo de ejecución\n",
    "start_time = time.time()\n",
    "result_q1_time = q1_time(file_path)\n",
    "end_time = time.time()\n",
    "print(f\"Tiempo de ejecución: {end_time - start_time} segundos\")\n",
    "print(result_q1_time)"
   ]
  },
  {
   "cell_type": "markdown",
   "metadata": {},
   "source": [
    "### <a id=\"parte32\">3.2 q1_memory </a>"
   ]
  },
  {
   "cell_type": "code",
   "execution_count": 6,
   "metadata": {},
   "outputs": [
    {
     "name": "stdout",
     "output_type": "stream",
     "text": [
      "Uso de memoria: 28.58984375 MiB\n",
      "[(datetime.date(2021, 2, 12), 'RanbirS00614606'), (datetime.date(2021, 2, 13), 'MaanDee08215437'), (datetime.date(2021, 2, 17), 'RaaJVinderkaur'), (datetime.date(2021, 2, 16), 'jot__b'), (datetime.date(2021, 2, 14), 'rebelpacifist'), (datetime.date(2021, 2, 18), 'neetuanjle_nitu'), (datetime.date(2021, 2, 15), 'jot__b'), (datetime.date(2021, 2, 20), 'MangalJ23056160'), (datetime.date(2021, 2, 23), 'Surrypuria'), (datetime.date(2021, 2, 19), 'Preetm91')]\n"
     ]
    }
   ],
   "source": [
    "# Importamos funcion q1_memory del archivo q1_memory.py\n",
    "from q1_memory import q1_memory\n",
    "\n",
    "# Medir uso de memoria\n",
    "mem_usage = memory_profiler.memory_usage((q1_memory, (file_path,)))\n",
    "result_q1_memory = q1_memory(file_path)\n",
    "print(f\"Uso de memoria: {max(mem_usage) - min(mem_usage)} MiB\")\n",
    "print(result_q1_memory)"
   ]
  },
  {
   "cell_type": "markdown",
   "metadata": {},
   "source": [
    "### <a id=\"parte33\">3.3 q2_time </a>"
   ]
  },
  {
   "cell_type": "code",
   "execution_count": 7,
   "metadata": {},
   "outputs": [
    {
     "name": "stdout",
     "output_type": "stream",
     "text": [
      "Tiempo de ejecución: 10.8752121925354 segundos\n",
      "[('🙏', 7286), ('😂', 3072), ('🚜', 2972), ('✊', 2411), ('🌾', 2363), ('🏻', 2080), ('❤', 1779), ('🤣', 1668), ('🏽', 1218), ('👇', 1108)]\n"
     ]
    }
   ],
   "source": [
    "# Importamos funcion q2_time del archivo q2_time.py\n",
    "from q2_time import q2_time\n",
    "\n",
    "# Medir tiempo de ejecución\n",
    "start_time = time.time()\n",
    "result_q2_time = q2_time(file_path)\n",
    "end_time = time.time()\n",
    "print(f\"Tiempo de ejecución: {end_time - start_time} segundos\")\n",
    "print(result_q2_time)"
   ]
  },
  {
   "cell_type": "markdown",
   "metadata": {},
   "source": [
    "### <a id=\"parte34\">3.4 q2_memory </a>"
   ]
  },
  {
   "cell_type": "code",
   "execution_count": 8,
   "metadata": {},
   "outputs": [
    {
     "name": "stdout",
     "output_type": "stream",
     "text": [
      "Uso de memoria: 7.10546875 MiB\n",
      "[('🙏', 7286), ('😂', 3072), ('🚜', 2972), ('✊', 2411), ('🌾', 2363), ('🏻', 2080), ('❤', 1779), ('🤣', 1668), ('🏽', 1218), ('👇', 1108)]\n"
     ]
    }
   ],
   "source": [
    "# Importamos funcion q2_memory del archivo q2_memory.py\n",
    "from q2_memory import q2_memory\n",
    "\n",
    "# Medir uso de memoria\n",
    "mem_usage = memory_profiler.memory_usage((q2_memory, (file_path,)))\n",
    "result_q2_memory = q2_memory(file_path)\n",
    "print(f\"Uso de memoria: {max(mem_usage) - min(mem_usage)} MiB\")\n",
    "print(result_q2_memory)"
   ]
  },
  {
   "cell_type": "markdown",
   "metadata": {},
   "source": [
    "### <a id=\"parte35\">3.5 q3_time </a>"
   ]
  },
  {
   "cell_type": "code",
   "execution_count": 9,
   "metadata": {},
   "outputs": [
    {
     "name": "stdout",
     "output_type": "stream",
     "text": [
      "Tiempo de ejecución: 8.917109489440918 segundos\n",
      "[('@narendramodi', 2261), ('@Kisanektamorcha', 1836), ('@RakeshTikaitBKU', 1639), ('@PMOIndia', 1422), ('@RahulGandhi', 1125), ('@GretaThunberg', 1046), ('@RaviSinghKA', 1015), ('@rihanna', 972), ('@UNHumanRights', 962), ('@meenaharris', 925)]\n"
     ]
    }
   ],
   "source": [
    "# Importamos funcion q3_time del archivo q3_time.py\n",
    "from q3_time import q3_time\n",
    "\n",
    "# Medir tiempo de ejecución\n",
    "start_time = time.time()\n",
    "result_q3_time = q3_time(file_path)\n",
    "end_time = time.time()\n",
    "print(f\"Tiempo de ejecución: {end_time - start_time} segundos\")\n",
    "print(result_q3_time)"
   ]
  },
  {
   "cell_type": "markdown",
   "metadata": {},
   "source": [
    "### <a id=\"parte36\">3.6 q3_memory </a>"
   ]
  },
  {
   "cell_type": "code",
   "execution_count": 10,
   "metadata": {},
   "outputs": [
    {
     "name": "stdout",
     "output_type": "stream",
     "text": [
      "Uso de memoria: 3.9140625 MiB\n",
      "[('@narendramodi', 2201), ('@Kisanektamorcha', 1822), ('@RakeshTikaitBKU', 1599), ('@PMOIndia', 1387), ('@RahulGandhi', 1093), ('@RaviSinghKA', 1002), ('@GretaThunberg', 999), ('@UNHumanRights', 956), ('@rihanna', 944), ('@meenaharris', 911)]\n"
     ]
    }
   ],
   "source": [
    "# Importamos funcion q3_memory del archivo q3_memory.py\n",
    "from q3_memory import q3_memory\n",
    "\n",
    "# Medir uso de memoria\n",
    "mem_usage = memory_profiler.memory_usage((q3_memory, (file_path,)))\n",
    "result_q3_memory = q3_memory(file_path)\n",
    "print(f\"Uso de memoria: {max(mem_usage) - min(mem_usage)} MiB\")\n",
    "print(result_q3_memory)"
   ]
  },
  {
   "cell_type": "markdown",
   "metadata": {},
   "source": [
    "## <a id=\"parte1\"> 10. Eliminación de data </a>"
   ]
  },
  {
   "cell_type": "code",
   "execution_count": 11,
   "metadata": {},
   "outputs": [],
   "source": [
    "#Elimimamos archivos y carpetas si existen\n",
    "\n",
    "if os.path.exists(zip_file): os.remove(zip_file) \n",
    "\n",
    "if os.path.exists(file_path): os.remove(file_path) \n",
    "\n",
    "if os.path.exists(folder_data): os.rmdir(folder_data) \n"
   ]
  },
  {
   "cell_type": "code",
   "execution_count": 13,
   "metadata": {},
   "outputs": [
    {
     "name": "stdout",
     "output_type": "stream",
     "text": [
      "anyio==3.6.2\n",
      "argon2-cffi==21.3.0\n",
      "argon2-cffi-bindings==21.2.0\n",
      "arrow==1.2.3\n",
      "asttokens==2.2.1\n",
      "attrs==22.2.0\n",
      "azure-core==1.30.1\n",
      "azure-servicebus==7.12.2\n",
      "backcall==0.2.0\n",
      "beautifulsoup4==4.11.2\n",
      "bleach==6.0.0\n",
      "blinker==1.6.2\n",
      "cachetools==5.3.2\n",
      "certifi==2022.12.7\n",
      "cffi==1.15.1\n",
      "charset-normalizer==3.0.1\n",
      "click==8.1.3\n",
      "colorama==0.4.6\n",
      "comm==0.1.2\n",
      "contourpy==1.0.7\n",
      "cryptography==42.0.5\n",
      "cycler==0.11.0\n",
      "debugpy==1.6.5\n",
      "decorator==5.1.1\n",
      "defusedxml==0.7.1\n",
      "emoji==2.12.1\n",
      "entrypoints==0.4\n",
      "et-xmlfile==1.1.0\n",
      "executing==1.2.0\n",
      "fastavro==1.9.4\n",
      "fastjsonschema==2.16.2\n",
      "filelock==3.15.4\n",
      "Flask==2.3.2\n",
      "fonttools==4.38.0\n",
      "fqdn==1.5.1\n",
      "gdown==5.2.0\n",
      "git-filter-repo==2.38.0\n",
      "google==3.0.0\n",
      "google-api-core==2.14.0\n",
      "google-auth==2.23.4\n",
      "google-cloud-bigquery==3.13.0\n",
      "google-cloud-core==2.3.3\n",
      "google-crc32c==1.5.0\n",
      "google-resumable-media==2.6.0\n",
      "googleapis-common-protos==1.61.0\n",
      "grpcio==1.59.3\n",
      "grpcio-status==1.59.3\n",
      "idna==3.4\n",
      "ipykernel==6.20.1\n",
      "ipython==8.8.0\n",
      "ipython-genutils==0.2.0\n",
      "ipywidgets==8.0.4\n",
      "isodate==0.6.1\n",
      "isoduration==20.11.0\n",
      "itsdangerous==2.1.2\n",
      "jedi==0.18.2\n",
      "Jinja2==3.1.2\n",
      "jsonpointer==2.3\n",
      "jsonschema==4.17.3\n",
      "jupyter==1.0.0\n",
      "jupyter-console==6.5.1\n",
      "jupyter-events==0.6.3\n",
      "jupyter_client==7.4.9\n",
      "jupyter_core==5.1.3\n",
      "jupyter_server==2.3.0\n",
      "jupyter_server_terminals==0.4.4\n",
      "jupyterlab-pygments==0.2.2\n",
      "jupyterlab-widgets==3.0.5\n",
      "kaleido==0.2.1\n",
      "kiwisolver==1.4.4\n",
      "lxml==5.2.0\n",
      "MarkupSafe==2.1.2\n",
      "matplotlib==3.7.0\n",
      "matplotlib-inline==0.1.6\n",
      "memory-profiler==0.61.0\n",
      "mistune==2.0.5\n",
      "more-itertools==10.2.0\n",
      "nbclassic==0.5.1\n",
      "nbclient==0.7.2\n",
      "nbconvert==7.2.9\n",
      "nbformat==5.7.3\n",
      "nest-asyncio==1.5.6\n",
      "notebook==6.5.2\n",
      "notebook_shim==0.2.2\n",
      "numpy==1.24.1\n",
      "openpyxl==3.0.10\n",
      "packaging==23.0\n",
      "pandas==1.5.2\n",
      "pandocfilters==1.5.0\n",
      "parso==0.8.3\n",
      "pdf2image==1.16.3\n",
      "pendulum==3.0.0\n",
      "pickleshare==0.7.5\n",
      "Pillow==9.4.0\n",
      "platformdirs==2.6.2\n",
      "plotly==5.13.0\n",
      "prometheus-client==0.16.0\n",
      "prompt-toolkit==3.0.36\n",
      "proto-plus==1.22.3\n",
      "protobuf==4.25.1\n",
      "psutil==5.9.4\n",
      "pure-eval==0.2.2\n",
      "pyasn1==0.5.1\n",
      "pyasn1-modules==0.3.0\n",
      "pycparser==2.21\n",
      "Pygments==2.14.0\n",
      "PyJWT==2.8.0\n",
      "pyparsing==3.0.9\n",
      "pyrsistent==0.19.3\n",
      "PySocks==1.7.1\n",
      "pytesseract==0.3.10\n",
      "python-dateutil==2.8.2\n",
      "python-json-logger==2.0.6\n",
      "pytz==2022.7\n",
      "pywin32==305\n",
      "pywinpty==2.0.10\n",
      "PyYAML==6.0\n",
      "pyzmq==25.0.0\n",
      "qtconsole==5.4.0\n",
      "QtPy==2.3.0\n",
      "requests==2.31.0\n",
      "requests-file==2.0.0\n",
      "requests-toolbelt==1.0.0\n",
      "rfc3339-validator==0.1.4\n",
      "rfc3986-validator==0.1.1\n",
      "rsa==4.9\n",
      "salesforce-bulk==2.2.0\n",
      "Send2Trash==1.8.0\n",
      "simple-salesforce==1.12.5\n",
      "six==1.16.0\n",
      "sniffio==1.3.0\n",
      "soupsieve==2.4\n",
      "stack-data==0.6.2\n",
      "tabula==1.0.5\n",
      "tenacity==8.2.1\n",
      "terminado==0.17.1\n",
      "time-machine==2.14.1\n",
      "tinycss2==1.2.1\n",
      "tornado==6.2\n",
      "tqdm==4.66.4\n",
      "traitlets==5.8.1\n",
      "typing_extensions==4.11.0\n",
      "tzdata==2024.1\n",
      "unicodecsv==0.14.1\n",
      "uri-template==1.2.0\n",
      "urllib3==1.26.14\n",
      "wcwidth==0.2.5\n",
      "webcolors==1.12\n",
      "webencodings==0.5.1\n",
      "websocket-client==1.5.1\n",
      "Werkzeug==2.3.6\n",
      "widgetsnbextension==4.0.5\n",
      "zeep==4.2.1\n",
      "Note: you may need to restart the kernel to use updated packages.\n"
     ]
    }
   ],
   "source": [
    "pip freeze\n"
   ]
  },
  {
   "cell_type": "code",
   "execution_count": 12,
   "metadata": {},
   "outputs": [
    {
     "name": "stdout",
     "output_type": "stream",
     "text": [
      "Package                  Version\n",
      "------------------------ ---------\n",
      "anyio                    3.6.2\n",
      "argon2-cffi              21.3.0\n",
      "argon2-cffi-bindings     21.2.0\n",
      "arrow                    1.2.3\n",
      "asttokens                2.2.1\n",
      "attrs                    22.2.0\n",
      "azure-core               1.30.1\n",
      "azure-servicebus         7.12.2\n",
      "backcall                 0.2.0\n",
      "beautifulsoup4           4.11.2\n",
      "bleach                   6.0.0\n",
      "blinker                  1.6.2\n",
      "cachetools               5.3.2\n",
      "certifi                  2022.12.7\n",
      "cffi                     1.15.1\n",
      "charset-normalizer       3.0.1\n",
      "click                    8.1.3\n",
      "colorama                 0.4.6\n",
      "comm                     0.1.2\n",
      "contourpy                1.0.7\n",
      "cryptography             42.0.5\n",
      "cycler                   0.11.0\n",
      "debugpy                  1.6.5\n",
      "decorator                5.1.1\n",
      "defusedxml               0.7.1\n",
      "emoji                    2.12.1\n",
      "entrypoints              0.4\n",
      "et-xmlfile               1.1.0\n",
      "executing                1.2.0\n",
      "fastavro                 1.9.4\n",
      "fastjsonschema           2.16.2\n",
      "filelock                 3.15.4\n",
      "Flask                    2.3.2\n",
      "fonttools                4.38.0\n",
      "fqdn                     1.5.1\n",
      "gdown                    5.2.0\n",
      "git-filter-repo          2.38.0\n",
      "google                   3.0.0\n",
      "google-api-core          2.14.0\n",
      "google-auth              2.23.4\n",
      "google-cloud-bigquery    3.13.0\n",
      "google-cloud-core        2.3.3\n",
      "google-crc32c            1.5.0\n",
      "google-resumable-media   2.6.0\n",
      "googleapis-common-protos 1.61.0\n",
      "grpcio                   1.59.3\n",
      "grpcio-status            1.59.3\n",
      "idna                     3.4\n",
      "ipykernel                6.20.1\n",
      "ipython                  8.8.0\n",
      "ipython-genutils         0.2.0\n",
      "ipywidgets               8.0.4\n",
      "isodate                  0.6.1\n",
      "isoduration              20.11.0\n",
      "itsdangerous             2.1.2\n",
      "jedi                     0.18.2\n",
      "Jinja2                   3.1.2\n",
      "jsonpointer              2.3\n",
      "jsonschema               4.17.3\n",
      "jupyter                  1.0.0\n",
      "jupyter_client           7.4.9\n",
      "jupyter-console          6.5.1\n",
      "jupyter_core             5.1.3\n",
      "jupyter-events           0.6.3\n",
      "jupyter_server           2.3.0\n",
      "jupyter_server_terminals 0.4.4\n",
      "jupyterlab-pygments      0.2.2\n",
      "jupyterlab-widgets       3.0.5\n",
      "kaleido                  0.2.1\n",
      "kiwisolver               1.4.4\n",
      "lxml                     5.2.0\n",
      "MarkupSafe               2.1.2\n",
      "matplotlib               3.7.0\n",
      "matplotlib-inline        0.1.6\n",
      "memory-profiler          0.61.0\n",
      "mistune                  2.0.5\n",
      "more-itertools           10.2.0\n",
      "nbclassic                0.5.1\n",
      "nbclient                 0.7.2\n",
      "nbconvert                7.2.9\n",
      "nbformat                 5.7.3\n",
      "nest-asyncio             1.5.6\n",
      "notebook                 6.5.2\n",
      "notebook_shim            0.2.2\n",
      "numpy                    1.24.1\n",
      "openpyxl                 3.0.10\n",
      "packaging                23.0\n",
      "pandas                   1.5.2\n",
      "pandocfilters            1.5.0\n",
      "parso                    0.8.3\n",
      "pdf2image                1.16.3\n",
      "pendulum                 3.0.0\n",
      "pickleshare              0.7.5\n",
      "Pillow                   9.4.0\n",
      "pip                      24.0\n",
      "platformdirs             2.6.2\n",
      "plotly                   5.13.0\n",
      "prometheus-client        0.16.0\n",
      "prompt-toolkit           3.0.36\n",
      "proto-plus               1.22.3\n",
      "protobuf                 4.25.1\n",
      "psutil                   5.9.4\n",
      "pure-eval                0.2.2\n",
      "pyasn1                   0.5.1\n",
      "pyasn1-modules           0.3.0\n",
      "pycparser                2.21\n",
      "Pygments                 2.14.0\n",
      "PyJWT                    2.8.0\n",
      "pyparsing                3.0.9\n",
      "pyrsistent               0.19.3\n",
      "PySocks                  1.7.1\n",
      "pytesseract              0.3.10\n",
      "python-dateutil          2.8.2\n",
      "python-json-logger       2.0.6\n",
      "pytz                     2022.7\n",
      "pywin32                  305\n",
      "pywinpty                 2.0.10\n",
      "PyYAML                   6.0\n",
      "pyzmq                    25.0.0\n",
      "qtconsole                5.4.0\n",
      "QtPy                     2.3.0\n",
      "requests                 2.31.0\n",
      "requests-file            2.0.0\n",
      "requests-toolbelt        1.0.0\n",
      "rfc3339-validator        0.1.4\n",
      "rfc3986-validator        0.1.1\n",
      "rsa                      4.9\n",
      "salesforce-bulk          2.2.0\n",
      "Send2Trash               1.8.0\n",
      "simple-salesforce        1.12.5\n",
      "six                      1.16.0\n",
      "sniffio                  1.3.0\n",
      "soupsieve                2.4\n",
      "stack-data               0.6.2\n",
      "tabula                   1.0.5\n",
      "tenacity                 8.2.1\n",
      "terminado                0.17.1\n",
      "time-machine             2.14.1\n",
      "tinycss2                 1.2.1\n",
      "tornado                  6.2\n",
      "tqdm                     4.66.4\n",
      "traitlets                5.8.1\n",
      "typing_extensions        4.11.0\n",
      "tzdata                   2024.1\n",
      "unicodecsv               0.14.1\n",
      "uri-template             1.2.0\n",
      "urllib3                  1.26.14\n",
      "wcwidth                  0.2.5\n",
      "webcolors                1.12\n",
      "webencodings             0.5.1\n",
      "websocket-client         1.5.1\n",
      "Werkzeug                 2.3.6\n",
      "widgetsnbextension       4.0.5\n",
      "zeep                     4.2.1\n",
      "Note: you may need to restart the kernel to use updated packages.\n"
     ]
    },
    {
     "name": "stderr",
     "output_type": "stream",
     "text": [
      "\n",
      "[notice] A new release of pip is available: 24.0 -> 24.1\n",
      "[notice] To update, run: C:\\Users\\danie\\AppData\\Local\\Microsoft\\WindowsApps\\PythonSoftwareFoundation.Python.3.11_qbz5n2kfra8p0\\python.exe -m pip install --upgrade pip\n"
     ]
    }
   ],
   "source": [
    "pip list"
   ]
  },
  {
   "cell_type": "code",
   "execution_count": 14,
   "metadata": {},
   "outputs": [
    {
     "name": "stdout",
     "output_type": "stream",
     "text": [
      "tzdata==2024.1\n",
      "certifi==2022.12.7\n",
      "pytz==2022.7\n",
      "pywin32==305\n",
      "cryptography==42.0.5\n",
      "pyzmq==25.0.0\n",
      "pip==24.0\n",
      "packaging==23.0\n",
      "attrs==22.2.0\n",
      "argon2-cffi==21.3.0\n",
      "argon2-cffi-bindings==21.2.0\n",
      "isoduration==20.11.0\n",
      "more-itertools==10.2.0\n",
      "pillow==9.4.0\n",
      "ipython==8.8.0\n",
      "tenacity==8.2.1\n",
      "click==8.1.3\n",
      "ipywidgets==8.0.4\n",
      "azure-servicebus==7.12.2\n",
      "jupyter-client==7.4.9\n",
      "nbconvert==7.2.9\n",
      "ipykernel==6.20.1\n",
      "notebook==6.5.2\n",
      "jupyter-console==6.5.1\n",
      "tornado==6.2\n",
      "bleach==6.0.0\n",
      "pyyaml==6.0\n",
      "plotly==5.13.0\n",
      "psutil==5.9.4\n",
      "traitlets==5.8.1\n",
      "nbformat==5.7.3\n",
      "qtconsole==5.4.0\n",
      "cachetools==5.3.2\n",
      "gdown==5.2.0\n",
      "lxml==5.2.0\n",
      "jupyter-core==5.1.3\n",
      "decorator==5.1.1\n",
      "tqdm==4.66.4\n",
      "fonttools==4.38.0\n",
      "protobuf==4.25.1\n",
      "jsonschema==4.17.3\n",
      "beautifulsoup4==4.11.2\n",
      "typing-extensions==4.11.0\n",
      "rsa==4.9\n",
      "zeep==4.2.1\n",
      "widgetsnbextension==4.0.5\n",
      "filelock==3.15.4\n",
      "google-cloud-bigquery==3.13.0\n",
      "matplotlib==3.7.0\n",
      "anyio==3.6.2\n",
      "idna==3.4\n",
      "jinja2==3.1.2\n",
      "prompt-toolkit==3.0.36\n",
      "openpyxl==3.0.10\n",
      "pyparsing==3.0.9\n",
      "jupyterlab-widgets==3.0.5\n",
      "charset-normalizer==3.0.1\n",
      "google==3.0.0\n",
      "pendulum==3.0.0\n",
      "git-filter-repo==2.38.0\n",
      "requests==2.31.0\n",
      "google-auth==2.23.4\n",
      "pycparser==2.21\n",
      "fastjsonschema==2.16.2\n",
      "time-machine==2.14.1\n",
      "google-api-core==2.14.0\n",
      "pygments==2.14.0\n",
      "emoji==2.12.1\n",
      "python-dateutil==2.8.2\n",
      "pyjwt==2.8.0\n",
      "platformdirs==2.6.2\n",
      "google-resumable-media==2.6.0\n",
      "soupsieve==2.4\n",
      "werkzeug==2.3.6\n",
      "google-cloud-core==2.3.3\n",
      "flask==2.3.2\n",
      "jsonpointer==2.3\n",
      "jupyter-server==2.3.0\n",
      "qtpy==2.3.0\n",
      "asttokens==2.2.1\n",
      "salesforce-bulk==2.2.0\n",
      "itsdangerous==2.1.2\n",
      "markupsafe==2.1.2\n",
      "pywinpty==2.0.10\n",
      "python-json-logger==2.0.6\n",
      "mistune==2.0.5\n",
      "requests-file==2.0.0\n",
      "googleapis-common-protos==1.61.0\n",
      "grpcio==1.59.3\n",
      "grpcio-status==1.59.3\n",
      "azure-core==1.30.1\n",
      "urllib3==1.26.14\n",
      "numpy==1.24.1\n",
      "proto-plus==1.22.3\n",
      "pdf2image==1.16.3\n",
      "six==1.16.0\n",
      "cffi==1.15.1\n",
      "simple-salesforce==1.12.5\n",
      "webcolors==1.12\n",
      "fastavro==1.9.4\n",
      "send2trash==1.8.0\n",
      "pysocks==1.7.1\n",
      "debugpy==1.6.5\n",
      "blinker==1.6.2\n",
      "nest-asyncio==1.5.6\n",
      "pandas==1.5.2\n",
      "fqdn==1.5.1\n",
      "websocket-client==1.5.1\n",
      "google-crc32c==1.5.0\n",
      "pandocfilters==1.5.0\n",
      "kiwisolver==1.4.4\n",
      "sniffio==1.3.0\n",
      "arrow==1.2.3\n",
      "tinycss2==1.2.1\n",
      "executing==1.2.0\n",
      "uri-template==1.2.0\n",
      "et-xmlfile==1.1.0\n",
      "contourpy==1.0.7\n",
      "tabula==1.0.5\n",
      "jupyter==1.0.0\n",
      "requests-toolbelt==1.0.0\n",
      "memory-profiler==0.61.0\n",
      "pyrsistent==0.19.3\n",
      "jedi==0.18.2\n",
      "terminado==0.17.1\n",
      "prometheus-client==0.16.0\n",
      "unicodecsv==0.14.1\n",
      "cycler==0.11.0\n",
      "parso==0.8.3\n",
      "pickleshare==0.7.5\n",
      "nbclient==0.7.2\n",
      "defusedxml==0.7.1\n",
      "jupyter-events==0.6.3\n",
      "stack-data==0.6.2\n",
      "isodate==0.6.1\n",
      "nbclassic==0.5.1\n",
      "pyasn1==0.5.1\n",
      "webencodings==0.5.1\n",
      "colorama==0.4.6\n",
      "jupyter-server-terminals==0.4.4\n",
      "entrypoints==0.4\n",
      "pytesseract==0.3.10\n",
      "pyasn1-modules==0.3.0\n",
      "wcwidth==0.2.5\n",
      "jupyterlab-pygments==0.2.2\n",
      "notebook-shim==0.2.2\n",
      "pure-eval==0.2.2\n",
      "kaleido==0.2.1\n",
      "backcall==0.2.0\n",
      "ipython-genutils==0.2.0\n",
      "matplotlib-inline==0.1.6\n",
      "rfc3339-validator==0.1.4\n",
      "comm==0.1.2\n",
      "rfc3986-validator==0.1.1\n",
      "setuptools==65.5.0\n"
     ]
    }
   ],
   "source": [
    "import pkg_resources\n",
    "\n",
    "installed_packages = pkg_resources.working_set\n",
    "for package in installed_packages:\n",
    "    print(f\"{package.key}=={package.version}\")"
   ]
  }
 ],
 "metadata": {
  "kernelspec": {
   "display_name": "Python 3",
   "language": "python",
   "name": "python3"
  },
  "language_info": {
   "codemirror_mode": {
    "name": "ipython",
    "version": 3
   },
   "file_extension": ".py",
   "mimetype": "text/x-python",
   "name": "python",
   "nbconvert_exporter": "python",
   "pygments_lexer": "ipython3",
   "version": "3.11.9"
  },
  "orig_nbformat": 4
 },
 "nbformat": 4,
 "nbformat_minor": 2
}
